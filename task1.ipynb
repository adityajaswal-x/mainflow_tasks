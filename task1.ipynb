{
 "cells": [
  {
   "cell_type": "code",
   "execution_count": 1,
   "metadata": {},
   "outputs": [
    {
     "name": "stdout",
     "output_type": "stream",
     "text": [
      "UPDATED LIST [10, 20, 50, 30, 6]\n"
     ]
    }
   ],
   "source": [
    "#Creattng a List\n",
    "my_list = [10,20,50,40,30]\n",
    "\n",
    "#Adding an element to the List\n",
    "my_list.append(6)\n",
    "\n",
    "#Removing an element from the List\n",
    "my_list.remove(40)\n",
    "\n",
    "#Modifying an element in the List\n",
    "my_list[0] = 10\n",
    "\n",
    "print(\"UPDATED LIST\", my_list)"
   ]
  },
  {
   "cell_type": "code",
   "execution_count": 2,
   "metadata": {},
   "outputs": [
    {
     "name": "stdout",
     "output_type": "stream",
     "text": [
      "Updated Dictionary: {'name': 'Aditya', 'city': 'Mandi', 'gender': 'Male'}\n"
     ]
    }
   ],
   "source": [
    "my_dict = {'name':'Aditya', 'age':18, 'city':'sundernagar'}\n",
    "\n",
    "#Adding\n",
    "my_dict['gender'] = 'Male'\n",
    "\n",
    "#Removing\n",
    "del my_dict['age']\n",
    "\n",
    "#Modifying\n",
    "my_dict['city'] = 'Mandi'\n",
    "\n",
    "print(\"Updated Dictionary:\" , my_dict)"
   ]
  },
  {
   "cell_type": "code",
   "execution_count": 3,
   "metadata": {},
   "outputs": [
    {
     "name": "stdout",
     "output_type": "stream",
     "text": [
      "Updated Set: {2, 4, 5, 6, 9, 10}\n"
     ]
    }
   ],
   "source": [
    "#Creating a set\n",
    "my_set = {4,2,3,5,6,9}\n",
    "#Adding\n",
    "my_set.add(6)\n",
    "\n",
    "#Removing\n",
    "my_set.remove(3)\n",
    "\n",
    "#Modifying\n",
    "my_set.discard(1)\n",
    "my_set.add(10)\n",
    "\n",
    "print(\"Updated Set:\", my_set)"
   ]
  },
  {
   "cell_type": "code",
   "execution_count": null,
   "metadata": {},
   "outputs": [],
   "source": []
  }
 ],
 "metadata": {
  "kernelspec": {
   "display_name": "Python 3.10.2 64-bit",
   "language": "python",
   "name": "python3"
  },
  "language_info": {
   "codemirror_mode": {
    "name": "ipython",
    "version": 3
   },
   "file_extension": ".py",
   "mimetype": "text/x-python",
   "name": "python",
   "nbconvert_exporter": "python",
   "pygments_lexer": "ipython3",
   "version": "3.10.2"
  },
  "orig_nbformat": 4,
  "vscode": {
   "interpreter": {
    "hash": "63963b3f4c440940f0b94a3100916033a226cb4f45979123153792d60aa56d6a"
   }
  }
 },
 "nbformat": 4,
 "nbformat_minor": 2
}
